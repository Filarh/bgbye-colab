{
  "cells": [
    {
      "cell_type": "markdown",
      "metadata": {
        "id": "view-in-github",
        "colab_type": "text"
      },
      "source": [
        "<a href=\"https://colab.research.google.com/github/Filarh/bgbye-colab/blob/main/BgBye_Gradio.ipynb\" target=\"_parent\"><img src=\"https://colab.research.google.com/assets/colab-badge.svg\" alt=\"Open In Colab\"/></a>"
      ]
    },
    {
      "cell_type": "code",
      "execution_count": null,
      "metadata": {
        "id": "tCweqF43Rygx",
        "cellView": "form"
      },
      "outputs": [],
      "source": [
        "#@title 1. Clone Repo and install everything\n",
        "!git clone https://github.com/Filarh/bgbye-colab.git\n",
        "%cd bgbye-colab\n",
        "#@markdown instala los requisitos\n",
        "%cd server\n",
        "!chmod +x setup.sh run.sh\n",
        "!pip install --upgrade pip\n",
        "!pip install rembg[gpu] fastapi uvicorn\n",
        "!pip install gradio requests\n",
        "!./setup.sh\n",
        "%cd /content/bgbye-colab\n"
      ]
    },
    {
      "cell_type": "code",
      "source": [
        "#@title Start Gradio UI\n",
        "%cd /content/bgbye-colab\n",
        "!python -m server.gradio --share\n"
      ],
      "metadata": {
        "cellView": "form",
        "id": "UFa9nTiho7Zh"
      },
      "execution_count": null,
      "outputs": []
    }
  ],
  "metadata": {
    "colab": {
      "provenance": [],
      "gpuType": "T4",
      "include_colab_link": true
    },
    "kernelspec": {
      "display_name": "Python 3",
      "name": "python3"
    },
    "language_info": {
      "name": "python"
    },
    "accelerator": "GPU"
  },
  "nbformat": 4,
  "nbformat_minor": 0
}